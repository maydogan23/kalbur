{
  "nbformat": 4,
  "nbformat_minor": 0,
  "metadata": {
    "colab": {
      "name": "spark1.ipynb",
      "provenance": [],
      "collapsed_sections": [],
      "authorship_tag": "ABX9TyN8OnQtXcqzInB9YFQxoWbU",
      "include_colab_link": true
    },
    "kernelspec": {
      "name": "python3",
      "display_name": "Python 3"
    },
    "accelerator": "GPU"
  },
  "cells": [
    {
      "cell_type": "markdown",
      "metadata": {
        "id": "view-in-github",
        "colab_type": "text"
      },
      "source": [
        "<a href=\"https://colab.research.google.com/github/maydogan23/kalbur/blob/master/sparkNLP.ipynb\" target=\"_parent\"><img src=\"https://colab.research.google.com/assets/colab-badge.svg\" alt=\"Open In Colab\"/></a>"
      ]
    },
    {
      "cell_type": "code",
      "metadata": {
        "id": "iJ84QNGWaANS",
        "colab_type": "code",
        "outputId": "c7231d46-0128-43dd-a958-76033e8ba39c",
        "colab": {
          "base_uri": "https://localhost:8080/",
          "height": 136
        }
      },
      "source": [
        "import os\n",
        "\n",
        "# Install java\n",
        "! apt-get install -y openjdk-8-jdk-headless -qq > /dev/null\n",
        "os.environ[\"JAVA_HOME\"] = \"/usr/lib/jvm/java-8-openjdk-amd64\"\n",
        "os.environ[\"PATH\"] = os.environ[\"JAVA_HOME\"] + \"/bin:\" + os.environ[\"PATH\"]\n",
        "! java -version\n",
        "\n",
        "# Install pyspark\n",
        "! pip install --ignore-installed -q pyspark==2.4.4\n",
        "\n",
        "# Install Spark NLP\n",
        "! pip install --ignore-installed -q spark-nlp==2.4.5"
      ],
      "execution_count": 0,
      "outputs": [
        {
          "output_type": "stream",
          "text": [
            "openjdk version \"1.8.0_242\"\n",
            "OpenJDK Runtime Environment (build 1.8.0_242-8u242-b08-0ubuntu3~18.04-b08)\n",
            "OpenJDK 64-Bit Server VM (build 25.242-b08, mixed mode)\n",
            "\u001b[K     |████████████████████████████████| 215.7MB 72kB/s \n",
            "\u001b[K     |████████████████████████████████| 204kB 57.1MB/s \n",
            "\u001b[?25h  Building wheel for pyspark (setup.py) ... \u001b[?25l\u001b[?25hdone\n",
            "\u001b[K     |████████████████████████████████| 112kB 5.1MB/s \n",
            "\u001b[?25h"
          ],
          "name": "stdout"
        }
      ]
    },
    {
      "cell_type": "code",
      "metadata": {
        "id": "2Is1qEU4kMxQ",
        "colab_type": "code",
        "outputId": "1a83a615-c798-40dd-fff9-0e979d9cd7f6",
        "colab": {
          "base_uri": "https://localhost:8080/",
          "height": 250
        }
      },
      "source": [
        "import os\n",
        "import sys\n",
        "\n",
        "from pyspark.sql import SparkSession\n",
        "from pyspark.ml import Pipeline\n",
        "\n",
        "from sparknlp.annotator import *\n",
        "from sparknlp.common import *\n",
        "from sparknlp.base import *\n",
        "\n",
        "import pandas as pd\n",
        "\n",
        "import sparknlp\n",
        "\n",
        "spark = sparknlp.start(gpu=True) # for GPU training >> sparknlp.start(gpu=True)\n",
        "\n",
        "from sparknlp.base import *\n",
        "from sparknlp.annotator import *\n",
        "from pyspark.ml import Pipeline\n",
        "import pandas as pd\n",
        "\n",
        "print(\"Spark NLP version\", sparknlp.version())\n",
        "\n",
        "print(\"Apache Spark version:\", spark.version)\n",
        "\n",
        "spark"
      ],
      "execution_count": 0,
      "outputs": [
        {
          "output_type": "stream",
          "text": [
            "Spark NLP version 2.4.5\n",
            "Apache Spark version: 2.4.4\n"
          ],
          "name": "stdout"
        },
        {
          "output_type": "execute_result",
          "data": {
            "text/html": [
              "\n",
              "            <div>\n",
              "                <p><b>SparkSession - in-memory</b></p>\n",
              "                \n",
              "        <div>\n",
              "            <p><b>SparkContext</b></p>\n",
              "\n",
              "            <p><a href=\"http://6f0553073984:4040\">Spark UI</a></p>\n",
              "\n",
              "            <dl>\n",
              "              <dt>Version</dt>\n",
              "                <dd><code>v2.4.4</code></dd>\n",
              "              <dt>Master</dt>\n",
              "                <dd><code>local[*]</code></dd>\n",
              "              <dt>AppName</dt>\n",
              "                <dd><code>Spark NLP</code></dd>\n",
              "            </dl>\n",
              "        </div>\n",
              "        \n",
              "            </div>\n",
              "        "
            ],
            "text/plain": [
              "<pyspark.sql.session.SparkSession at 0x7faae7e90208>"
            ]
          },
          "metadata": {
            "tags": []
          },
          "execution_count": 2
        }
      ]
    },
    {
      "cell_type": "code",
      "metadata": {
        "id": "p28JzHY8kSdn",
        "colab_type": "code",
        "outputId": "bbb31794-a01d-4080-be4d-c7c5550d93ce",
        "colab": {
          "base_uri": "https://localhost:8080/",
          "height": 122
        }
      },
      "source": [
        "from google.colab import drive\n",
        "drive.mount('/content/drive')"
      ],
      "execution_count": 0,
      "outputs": [
        {
          "output_type": "stream",
          "text": [
            "Go to this URL in a browser: https://accounts.google.com/o/oauth2/auth?client_id=947318989803-6bn6qk8qdgf4n4g3pfee6491hc0brc4i.apps.googleusercontent.com&redirect_uri=urn%3aietf%3awg%3aoauth%3a2.0%3aoob&response_type=code&scope=email%20https%3a%2f%2fwww.googleapis.com%2fauth%2fdocs.test%20https%3a%2f%2fwww.googleapis.com%2fauth%2fdrive%20https%3a%2f%2fwww.googleapis.com%2fauth%2fdrive.photos.readonly%20https%3a%2f%2fwww.googleapis.com%2fauth%2fpeopleapi.readonly\n",
            "\n",
            "Enter your authorization code:\n",
            "··········\n",
            "Mounted at /content/drive\n"
          ],
          "name": "stdout"
        }
      ]
    },
    {
      "cell_type": "code",
      "metadata": {
        "id": "JgZcy_8vkVT4",
        "colab_type": "code",
        "outputId": "6964bde2-1c37-4836-8bb7-15ae3cef01df",
        "colab": {
          "base_uri": "https://localhost:8080/",
          "height": 459
        }
      },
      "source": [
        "trainDataset = spark.read \\\n",
        "      .option(\"header\", True) \\\n",
        "      .csv(\"drive/My Drive/train.csv\")\n",
        "trainDataset=trainDataset.drop(\"title\")\n",
        "\n",
        "trainDataset.show(truncate=50)"
      ],
      "execution_count": 0,
      "outputs": [
        {
          "output_type": "stream",
          "text": [
            "+--------+--------------------------------------------------+\n",
            "|category|                                       description|\n",
            "+--------+--------------------------------------------------+\n",
            "|       3|Reuters - Short-sellers, Wall Street's dwindlin...|\n",
            "|       3|Reuters - Private investment firm Carlyle Group...|\n",
            "|       3|Reuters - Soaring crude prices plus worries\\abo...|\n",
            "|       3|Reuters - Authorities have halted oil export\\fl...|\n",
            "|       3|AFP - Tearaway world oil prices, toppling recor...|\n",
            "|       3|Reuters - Stocks ended slightly higher on Frida...|\n",
            "|       3|AP - Assets of the nation's retail money market...|\n",
            "|       3|USATODAY.com - Retail sales bounced back a bit ...|\n",
            "|       3|\"Forbes.com - After earning a PH.D. in Sociolog...|\n",
            "|       3| NEW YORK (Reuters) - Short-sellers, Wall Stree...|\n",
            "|       3| NEW YORK (Reuters) - Soaring crude prices plus...|\n",
            "|       3| TEHRAN (Reuters) - OPEC can do nothing to dous...|\n",
            "|       3| JAKARTA (Reuters) - Non-OPEC oil exporters sho...|\n",
            "|       3| WASHINGTON/NEW YORK (Reuters) - The auction fo...|\n",
            "|       3| NEW YORK (Reuters) - The dollar tumbled broadl...|\n",
            "|       3|If you think you may need to help your elderly ...|\n",
            "|       3|The purchasing power of kids is a big part of w...|\n",
            "|       3|There is little cause for celebration in the st...|\n",
            "|       3|The US trade deficit has exploded 19 to a recor...|\n",
            "|       3|Oil giant Shell could be bracing itself for a t...|\n",
            "+--------+--------------------------------------------------+\n",
            "only showing top 20 rows\n",
            "\n"
          ],
          "name": "stdout"
        }
      ]
    },
    {
      "cell_type": "code",
      "metadata": {
        "id": "I4lrk-o5D3tI",
        "colab_type": "code",
        "outputId": "e61828d2-424f-4a83-8350-f880c11c3661",
        "colab": {
          "base_uri": "https://localhost:8080/",
          "height": 170
        }
      },
      "source": [
        "trainDataset.count()\n",
        "\n",
        "from pyspark.sql.functions import col\n",
        "\n",
        "trainDataset.groupBy(\"category\") \\\n",
        "    .count() \\\n",
        "    .orderBy(col(\"count\").desc()) \\\n",
        "    .show()"
      ],
      "execution_count": 0,
      "outputs": [
        {
          "output_type": "stream",
          "text": [
            "+--------+-----+\n",
            "|category|count|\n",
            "+--------+-----+\n",
            "|       1|30000|\n",
            "|       3|30000|\n",
            "|       4|30000|\n",
            "|       2|30000|\n",
            "+--------+-----+\n",
            "\n"
          ],
          "name": "stdout"
        }
      ]
    },
    {
      "cell_type": "code",
      "metadata": {
        "id": "C3o6QnSmEQwR",
        "colab_type": "code",
        "outputId": "a65c928c-2b49-49f9-b300-ec52b2ddb721",
        "colab": {
          "base_uri": "https://localhost:8080/",
          "height": 459
        }
      },
      "source": [
        "\n",
        "testDataset = spark.read \\\n",
        "      .option(\"header\", True) \\\n",
        "      .csv(\"drive/My Drive/test.csv\")\n",
        "testDataset=testDataset.drop(\"title\")\n",
        "\n",
        "testDataset.show(truncate=50)"
      ],
      "execution_count": 0,
      "outputs": [
        {
          "output_type": "stream",
          "text": [
            "+--------+--------------------------------------------------+\n",
            "|category|                                       description|\n",
            "+--------+--------------------------------------------------+\n",
            "|       3|Unions representing workers at Turner   Newall ...|\n",
            "|       4|SPACE.com - TORONTO, Canada -- A second\\team of...|\n",
            "|       4|AP - A company founded by a chemistry researche...|\n",
            "|       4|AP - It's barely dawn when Mike Fitzpatrick sta...|\n",
            "|       4|AP - Southern California's smog-fighting agency...|\n",
            "|       4|\"The British Department for Education and Skill...|\n",
            "|       4|                                  \"\\\"\"Sven Jaschan|\n",
            "|       4|\\FOAF/LOAF  and bloom filters have a lot of int...|\n",
            "|       4|\"Wiltshire Police warns about \"\"phishing\"\" afte...|\n",
            "|       4|In its first two years, the UK's dedicated card...|\n",
            "|       4| LOS ANGELES (Reuters) - A group of technology ...|\n",
            "|       4| LOS ANGELES (Reuters) - Apple Computer Inc.&lt...|\n",
            "|       4| AMSTERDAM (Reuters) - Free Record Shop, a Dutc...|\n",
            "|       4|A giant 100km colony of ants  which has been di...|\n",
            "|       4|                      \"Dolphin groups, or \"\"pods\"\"|\n",
            "|       4|Tyrannosaurus rex achieved its massive size due...|\n",
            "|       4|Jet Propulsion Lab -- Scientists have discovere...|\n",
            "|       4|European Space Agency -- ESAs Mars Express has ...|\n",
            "|       4|When did life begin? One evidential clue stems ...|\n",
            "|       4|update Earnings per share rise compared with a ...|\n",
            "+--------+--------------------------------------------------+\n",
            "only showing top 20 rows\n",
            "\n"
          ],
          "name": "stdout"
        }
      ]
    },
    {
      "cell_type": "code",
      "metadata": {
        "id": "TuX-FUwfImSK",
        "colab_type": "code",
        "outputId": "026ed223-3eab-49a2-bffa-109f8b5c16f8",
        "colab": {
          "base_uri": "https://localhost:8080/",
          "height": 170
        }
      },
      "source": [
        "testDataset.count()\n",
        "\n",
        "from pyspark.sql.functions import col\n",
        "\n",
        "testDataset.groupBy(\"category\") \\\n",
        "    .count() \\\n",
        "    .orderBy(col(\"count\").desc()) \\\n",
        "    .show()"
      ],
      "execution_count": 0,
      "outputs": [
        {
          "output_type": "stream",
          "text": [
            "+--------+-----+\n",
            "|category|count|\n",
            "+--------+-----+\n",
            "|       3| 1900|\n",
            "|       1| 1900|\n",
            "|       2| 1900|\n",
            "|       4| 1900|\n",
            "+--------+-----+\n",
            "\n"
          ],
          "name": "stdout"
        }
      ]
    },
    {
      "cell_type": "code",
      "metadata": {
        "id": "PdVMCrzDpMae",
        "colab_type": "code",
        "outputId": "ef2ebff4-87ed-43db-ab4d-b7a681c89c56",
        "colab": {
          "base_uri": "https://localhost:8080/",
          "height": 119
        }
      },
      "source": [
        "document_assembler = DocumentAssembler() \\\n",
        "    .setInputCol(\"description\") \\\n",
        "    .setOutputCol(\"document\")\n",
        "    \n",
        "tokenizer = Tokenizer() \\\n",
        "  .setInputCols([\"document\"]) \\\n",
        "  .setOutputCol(\"token\")\n",
        "\n",
        "spell_checker = NorvigSweetingApproach() \\\n",
        "    .setInputCols([\"token\"]) \\\n",
        "    .setOutputCol(\"checked\") \\\n",
        "    .setDictionary(\"drive/My Drive/coca2017.txt\", \"[a-zA-Z]+\")\n",
        "    \n",
        "normalizer = Normalizer() \\\n",
        "    .setInputCols([\"checked\"]) \\\n",
        "    .setOutputCol(\"normalized\")\n",
        "\n",
        "stopwords_cleaner = StopWordsCleaner()\\\n",
        "      .setInputCols(\"normalized\")\\\n",
        "      .setOutputCol(\"cleanTokens\")\\\n",
        "      .setCaseSensitive(False)\n",
        "\n",
        "lemma = LemmatizerModel.pretrained('lemma_antbnc') \\\n",
        "    .setInputCols([\"cleanTokens\"]) \\\n",
        "    .setOutputCol(\"lemma\")\n",
        "\n",
        "word_embeddings = BertEmbeddings.pretrained('bert_base_cased', 'en')\\\n",
        "  .setInputCols([\"document\", \"lemma\"])\\\n",
        "  .setOutputCol(\"embeddings\")\n",
        "\n",
        "embeddingsSentence = SentenceEmbeddings() \\\n",
        "      .setInputCols([\"document\", \"embeddings\"]) \\\n",
        "      .setOutputCol(\"sentence_embeddings\") \\\n",
        "      .setPoolingStrategy(\"AVERAGE\")\n",
        "    \n",
        "\n",
        "\n",
        "classsifierdl = ClassifierDLApproach()\\\n",
        "  .setInputCols([\"sentence_embeddings\"])\\\n",
        "  .setOutputCol(\"class\")\\\n",
        "  .setLabelColumn(\"category\")\\\n",
        "   .setBatchSize(64)\\\n",
        "      .setMaxEpochs(20)\\\n",
        "      .setLr(0.001)\\\n",
        "      .setDropout(0.2)\\\n",
        "      .setEnableOutputLogs(True)\n",
        "\n",
        "clf_pipeline = Pipeline(\n",
        "    stages=[document_assembler, \n",
        "            tokenizer,\n",
        "            spell_checker,\n",
        "            normalizer,\n",
        "            stopwords_cleaner, \n",
        "          lemma,\n",
        "            word_embeddings,\n",
        "            embeddingsSentence,\n",
        "                 \n",
        "            classsifierdl])"
      ],
      "execution_count": 0,
      "outputs": [
        {
          "output_type": "stream",
          "text": [
            "lemma_antbnc download started this may take some time.\n",
            "Approximate size to download 907.6 KB\n",
            "[OK!]\n",
            "bert_base_cased download started this may take some time.\n",
            "Approximate size to download 389.2 MB\n",
            "[OK!]\n"
          ],
          "name": "stdout"
        }
      ]
    },
    {
      "cell_type": "code",
      "metadata": {
        "id": "cTBvD9R_qWuU",
        "colab_type": "code",
        "outputId": "2274945b-c928-42c1-812b-ba1d9605f686",
        "colab": {
          "base_uri": "https://localhost:8080/",
          "height": 68
        }
      },
      "source": [
        "%%time\n",
        "clf_pipelineModel = clf_pipeline.fit(trainDataset)"
      ],
      "execution_count": 0,
      "outputs": [
        {
          "output_type": "stream",
          "text": [
            "\r[OK!]\n",
            "CPU times: user 302 ms, sys: 63.2 ms, total: 365 ms\n",
            "Wall time: 31min 30s\n"
          ],
          "name": "stdout"
        }
      ]
    },
    {
      "cell_type": "code",
      "metadata": {
        "id": "zB8W0y-n295c",
        "colab_type": "code",
        "outputId": "8041af21-13e8-4baf-bd20-46f498946f0f",
        "colab": {
          "base_uri": "https://localhost:8080/",
          "height": 51
        }
      },
      "source": [
        "!cd ~/annotator_logs && ls -l"
      ],
      "execution_count": 0,
      "outputs": [
        {
          "output_type": "stream",
          "text": [
            "total 4\n",
            "-rw-r--r-- 1 root root 1842 Apr 22 08:24 ClassifierDLApproach_6c361ff9b21a.log\n"
          ],
          "name": "stdout"
        }
      ]
    },
    {
      "cell_type": "code",
      "metadata": {
        "id": "T_rV44YuFsU9",
        "colab_type": "code",
        "outputId": "c9232887-96f3-4613-9775-def699e7eca9",
        "colab": {
          "base_uri": "https://localhost:8080/",
          "height": 374
        }
      },
      "source": [
        "!cat ~/annotator_logs/ClassifierDLApproach_6c361ff9b21a.log\n"
      ],
      "execution_count": 0,
      "outputs": [
        {
          "output_type": "stream",
          "text": [
            "Training started - total epochs: 20 - learning rate: 0.001 - batch size: 64 - training examples: 120000\n",
            "Epoch 0/20 - 10.486057393%.2fs - loss: 1647.4047 - accuracy: 0.86705834 - batches: 1875\n",
            "Epoch 1/20 - 10.495145914%.2fs - loss: 1610.9468 - accuracy: 0.8848 - batches: 1875\n",
            "Epoch 2/20 - 10.362822147%.2fs - loss: 1595.2373 - accuracy: 0.8910667 - batches: 1875\n",
            "Epoch 3/20 - 10.639734381%.2fs - loss: 1587.4008 - accuracy: 0.89614165 - batches: 1875\n",
            "Epoch 4/20 - 10.297178076%.2fs - loss: 1582.6464 - accuracy: 0.90009165 - batches: 1875\n",
            "Epoch 5/20 - 11.205607801%.2fs - loss: 1578.4379 - accuracy: 0.9031917 - batches: 1875\n",
            "Epoch 6/20 - 10.354310358%.2fs - loss: 1574.1919 - accuracy: 0.90615 - batches: 1875\n",
            "Epoch 7/20 - 10.39960985%.2fs - loss: 1570.6011 - accuracy: 0.9083833 - batches: 1875\n",
            "Epoch 8/20 - 10.332647502%.2fs - loss: 1567.7343 - accuracy: 0.9105333 - batches: 1875\n",
            "Epoch 9/20 - 10.40129957%.2fs - loss: 1564.8378 - accuracy: 0.912275 - batches: 1875\n",
            "Epoch 10/20 - 10.329324982%.2fs - loss: 1562.6083 - accuracy: 0.914 - batches: 1875\n",
            "Epoch 11/20 - 10.318016534%.2fs - loss: 1560.0032 - accuracy: 0.915575 - batches: 1875\n",
            "Epoch 12/20 - 10.391855144%.2fs - loss: 1557.1732 - accuracy: 0.9167333 - batches: 1875\n",
            "Epoch 13/20 - 10.419671819%.2fs - loss: 1553.4779 - accuracy: 0.91793334 - batches: 1875\n",
            "Epoch 14/20 - 10.284595476%.2fs - loss: 1550.6439 - accuracy: 0.91890836 - batches: 1875\n",
            "Epoch 15/20 - 10.400006135%.2fs - loss: 1548.2865 - accuracy: 0.9196917 - batches: 1875\n",
            "Epoch 16/20 - 10.371305092%.2fs - loss: 1546.3069 - accuracy: 0.9204583 - batches: 1875\n",
            "Epoch 17/20 - 10.57373394%.2fs - loss: 1544.9908 - accuracy: 0.92108333 - batches: 1875\n",
            "Epoch 18/20 - 10.526208932%.2fs - loss: 1543.5946 - accuracy: 0.9217 - batches: 1875\n",
            "Epoch 19/20 - 10.484555837%.2fs - loss: 1542.0497 - accuracy: 0.922325 - batches: 1875\n"
          ],
          "name": "stdout"
        }
      ]
    },
    {
      "cell_type": "code",
      "metadata": {
        "id": "vEBwRpvm3INV",
        "colab_type": "code",
        "outputId": "ff15cdf9-7df6-4964-a69f-132cb6ccd23b",
        "colab": {
          "base_uri": "https://localhost:8080/",
          "height": 289
        }
      },
      "source": [
        "preds = clf_pipelineModel.transform(testDataset)\n",
        "\n",
        "preds.select('category','description',\"class.result\").show(10, truncate=80)"
      ],
      "execution_count": 0,
      "outputs": [
        {
          "output_type": "stream",
          "text": [
            "+--------+--------------------------------------------------------------------------------+------+\n",
            "|category|                                                                     description|result|\n",
            "+--------+--------------------------------------------------------------------------------+------+\n",
            "|       3|Unions representing workers at Turner   Newall say they are 'disappointed' af...|   [3]|\n",
            "|       4|SPACE.com - TORONTO, Canada -- A second\\team of rocketeers competing for the ...|   [4]|\n",
            "|       4|AP - A company founded by a chemistry researcher at the University of Louisvi...|   [4]|\n",
            "|       4|AP - It's barely dawn when Mike Fitzpatrick starts his shift with a blur of c...|   [4]|\n",
            "|       4|AP - Southern California's smog-fighting agency went after emissions of the b...|   [4]|\n",
            "|       4|\"The British Department for Education and Skills (DfES) recently launched a \"...|   [4]|\n",
            "|       4|                                                                \"\\\"\"Sven Jaschan|   [4]|\n",
            "|       4|\\FOAF/LOAF  and bloom filters have a lot of interesting properties for social...|   [4]|\n",
            "|       4|\"Wiltshire Police warns about \"\"phishing\"\" after its fraud squad chief was ta...|   [1]|\n",
            "|       4|In its first two years, the UK's dedicated card fraud unit, has recovered 36,...|   [3]|\n",
            "+--------+--------------------------------------------------------------------------------+------+\n",
            "only showing top 10 rows\n",
            "\n"
          ],
          "name": "stdout"
        }
      ]
    },
    {
      "cell_type": "code",
      "metadata": {
        "id": "YGhSjnaR3NfP",
        "colab_type": "code",
        "colab": {}
      },
      "source": [
        "preds_df = preds.select('category','description',\"class.result\").toPandas()\n",
        "\n",
        "\n",
        "preds_df['result'] = preds_df['result'].apply(lambda x : x[0])"
      ],
      "execution_count": 0,
      "outputs": []
    },
    {
      "cell_type": "code",
      "metadata": {
        "id": "k_DeOpWX3NP-",
        "colab_type": "code",
        "outputId": "eca2f2c0-8619-49e0-85a0-e7b817c863de",
        "colab": {
          "base_uri": "https://localhost:8080/",
          "height": 204
        }
      },
      "source": [
        "\n",
        "from sklearn.metrics import classification_report\n",
        "\n",
        "print (classification_report(preds_df['result'], preds_df['category']))\n"
      ],
      "execution_count": 0,
      "outputs": [
        {
          "output_type": "stream",
          "text": [
            "              precision    recall  f1-score   support\n",
            "\n",
            "           1       0.88      0.91      0.90      1851\n",
            "           2       0.96      0.95      0.95      1933\n",
            "           3       0.83      0.86      0.84      1841\n",
            "           4       0.88      0.85      0.86      1975\n",
            "\n",
            "    accuracy                           0.89      7600\n",
            "   macro avg       0.89      0.89      0.89      7600\n",
            "weighted avg       0.89      0.89      0.89      7600\n",
            "\n"
          ],
          "name": "stdout"
        }
      ]
    }
  ]
}