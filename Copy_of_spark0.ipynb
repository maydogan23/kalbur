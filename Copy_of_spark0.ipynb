{
  "nbformat": 4,
  "nbformat_minor": 0,
  "metadata": {
    "colab": {
      "name": "Copy of spark0.ipynb",
      "provenance": [],
      "collapsed_sections": [],
      "authorship_tag": "ABX9TyMOd/KlAnSP8ZJQ92uCaI1f",
      "include_colab_link": true
    },
    "kernelspec": {
      "name": "python3",
      "display_name": "Python 3"
    },
    "accelerator": "GPU"
  },
  "cells": [
    {
      "cell_type": "markdown",
      "metadata": {
        "id": "view-in-github",
        "colab_type": "text"
      },
      "source": [
        "<a href=\"https://colab.research.google.com/github/maydogan23/kalbur/blob/master/Copy_of_spark0.ipynb\" target=\"_parent\"><img src=\"https://colab.research.google.com/assets/colab-badge.svg\" alt=\"Open In Colab\"/></a>"
      ]
    },
    {
      "cell_type": "code",
      "metadata": {
        "id": "THit3Gl6GfzA",
        "colab_type": "code",
        "outputId": "f00084a6-5e17-4592-f83f-c1c1ef246c31",
        "colab": {
          "base_uri": "https://localhost:8080/",
          "height": 136
        }
      },
      "source": [
        "import os\n",
        "\n",
        "# Install java\n",
        "! apt-get install -y openjdk-8-jdk-headless -qq > /dev/null\n",
        "os.environ[\"JAVA_HOME\"] = \"/usr/lib/jvm/java-8-openjdk-amd64\"\n",
        "os.environ[\"PATH\"] = os.environ[\"JAVA_HOME\"] + \"/bin:\" + os.environ[\"PATH\"]\n",
        "! java -version\n",
        "\n",
        "# Install pyspark\n",
        "! pip install --ignore-installed -q pyspark==2.4.4\n",
        "\n",
        "# Install Spark NLP\n",
        "! pip install --ignore-installed -q spark-nlp==2.4.5"
      ],
      "execution_count": 0,
      "outputs": [
        {
          "output_type": "stream",
          "text": [
            "openjdk version \"1.8.0_242\"\n",
            "OpenJDK Runtime Environment (build 1.8.0_242-8u242-b08-0ubuntu3~18.04-b08)\n",
            "OpenJDK 64-Bit Server VM (build 25.242-b08, mixed mode)\n",
            "\u001b[K     |████████████████████████████████| 215.7MB 75kB/s \n",
            "\u001b[K     |████████████████████████████████| 204kB 53.1MB/s \n",
            "\u001b[?25h  Building wheel for pyspark (setup.py) ... \u001b[?25l\u001b[?25hdone\n",
            "\u001b[K     |████████████████████████████████| 112kB 34.6MB/s \n",
            "\u001b[?25h"
          ],
          "name": "stdout"
        }
      ]
    },
    {
      "cell_type": "code",
      "metadata": {
        "id": "2Is1qEU4kMxQ",
        "colab_type": "code",
        "outputId": "bb85b705-b3ab-492d-a767-7688f7202e4c",
        "colab": {
          "base_uri": "https://localhost:8080/",
          "height": 250
        }
      },
      "source": [
        "import os\n",
        "import sys\n",
        "\n",
        "from pyspark.sql import SparkSession\n",
        "from pyspark.ml import Pipeline\n",
        "\n",
        "from sparknlp.annotator import *\n",
        "from sparknlp.common import *\n",
        "from sparknlp.base import *\n",
        "\n",
        "import pandas as pd\n",
        "\n",
        "import sparknlp\n",
        "\n",
        "spark = sparknlp.start(gpu=True) # for GPU training >> sparknlp.start(gpu=True)\n",
        "\n",
        "from sparknlp.base import *\n",
        "from sparknlp.annotator import *\n",
        "from pyspark.ml import Pipeline\n",
        "import pandas as pd\n",
        "\n",
        "print(\"Spark NLP version\", sparknlp.version())\n",
        "\n",
        "print(\"Apache Spark version:\", spark.version)\n",
        "\n",
        "spark"
      ],
      "execution_count": 0,
      "outputs": [
        {
          "output_type": "stream",
          "text": [
            "Spark NLP version 2.4.5\n",
            "Apache Spark version: 2.4.4\n"
          ],
          "name": "stdout"
        },
        {
          "output_type": "execute_result",
          "data": {
            "text/html": [
              "\n",
              "            <div>\n",
              "                <p><b>SparkSession - in-memory</b></p>\n",
              "                \n",
              "        <div>\n",
              "            <p><b>SparkContext</b></p>\n",
              "\n",
              "            <p><a href=\"http://cff1f6cffe22:4040\">Spark UI</a></p>\n",
              "\n",
              "            <dl>\n",
              "              <dt>Version</dt>\n",
              "                <dd><code>v2.4.4</code></dd>\n",
              "              <dt>Master</dt>\n",
              "                <dd><code>local[*]</code></dd>\n",
              "              <dt>AppName</dt>\n",
              "                <dd><code>Spark NLP</code></dd>\n",
              "            </dl>\n",
              "        </div>\n",
              "        \n",
              "            </div>\n",
              "        "
            ],
            "text/plain": [
              "<pyspark.sql.session.SparkSession at 0x7f97ed74f208>"
            ]
          },
          "metadata": {
            "tags": []
          },
          "execution_count": 2
        }
      ]
    },
    {
      "cell_type": "code",
      "metadata": {
        "id": "UB9kJQC-XN08",
        "colab_type": "code",
        "outputId": "83edd60c-0fc8-4027-b21b-66afd44e156d",
        "colab": {
          "base_uri": "https://localhost:8080/",
          "height": 122
        }
      },
      "source": [
        "from google.colab import drive\n",
        "drive.mount('/content/drive')"
      ],
      "execution_count": 0,
      "outputs": [
        {
          "output_type": "stream",
          "text": [
            "Go to this URL in a browser: https://accounts.google.com/o/oauth2/auth?client_id=947318989803-6bn6qk8qdgf4n4g3pfee6491hc0brc4i.apps.googleusercontent.com&redirect_uri=urn%3aietf%3awg%3aoauth%3a2.0%3aoob&response_type=code&scope=email%20https%3a%2f%2fwww.googleapis.com%2fauth%2fdocs.test%20https%3a%2f%2fwww.googleapis.com%2fauth%2fdrive%20https%3a%2f%2fwww.googleapis.com%2fauth%2fdrive.photos.readonly%20https%3a%2f%2fwww.googleapis.com%2fauth%2fpeopleapi.readonly\n",
            "\n",
            "Enter your authorization code:\n",
            "··········\n",
            "Mounted at /content/drive\n"
          ],
          "name": "stdout"
        }
      ]
    },
    {
      "cell_type": "code",
      "metadata": {
        "id": "aygQEJ0cXRzV",
        "colab_type": "code",
        "outputId": "45c20715-24a5-4a8a-dcde-11fcd2eee3e4",
        "colab": {
          "base_uri": "https://localhost:8080/",
          "height": 459
        }
      },
      "source": [
        "trainDataset = spark.read \\\n",
        "      .option(\"header\", True) \\\n",
        "      .csv(\"drive/My Drive/train.csv\")\n",
        "trainDataset=trainDataset.drop(\"title\")\n",
        "\n",
        "trainDataset.show(truncate=50)"
      ],
      "execution_count": 0,
      "outputs": [
        {
          "output_type": "stream",
          "text": [
            "+--------+--------------------------------------------------+\n",
            "|category|                                       description|\n",
            "+--------+--------------------------------------------------+\n",
            "|       3|Reuters - Short-sellers, Wall Street's dwindlin...|\n",
            "|       3|Reuters - Private investment firm Carlyle Group...|\n",
            "|       3|Reuters - Soaring crude prices plus worries\\abo...|\n",
            "|       3|Reuters - Authorities have halted oil export\\fl...|\n",
            "|       3|AFP - Tearaway world oil prices, toppling recor...|\n",
            "|       3|Reuters - Stocks ended slightly higher on Frida...|\n",
            "|       3|AP - Assets of the nation's retail money market...|\n",
            "|       3|USATODAY.com - Retail sales bounced back a bit ...|\n",
            "|       3|\"Forbes.com - After earning a PH.D. in Sociolog...|\n",
            "|       3| NEW YORK (Reuters) - Short-sellers, Wall Stree...|\n",
            "|       3| NEW YORK (Reuters) - Soaring crude prices plus...|\n",
            "|       3| TEHRAN (Reuters) - OPEC can do nothing to dous...|\n",
            "|       3| JAKARTA (Reuters) - Non-OPEC oil exporters sho...|\n",
            "|       3| WASHINGTON/NEW YORK (Reuters) - The auction fo...|\n",
            "|       3| NEW YORK (Reuters) - The dollar tumbled broadl...|\n",
            "|       3|If you think you may need to help your elderly ...|\n",
            "|       3|The purchasing power of kids is a big part of w...|\n",
            "|       3|There is little cause for celebration in the st...|\n",
            "|       3|The US trade deficit has exploded 19 to a recor...|\n",
            "|       3|Oil giant Shell could be bracing itself for a t...|\n",
            "+--------+--------------------------------------------------+\n",
            "only showing top 20 rows\n",
            "\n"
          ],
          "name": "stdout"
        }
      ]
    },
    {
      "cell_type": "code",
      "metadata": {
        "id": "_p-AeP86XTRm",
        "colab_type": "code",
        "outputId": "aafc37c0-89fd-4e4e-adea-7dd0957de68c",
        "colab": {
          "base_uri": "https://localhost:8080/",
          "height": 170
        }
      },
      "source": [
        "trainDataset.count()\n",
        "\n",
        "from pyspark.sql.functions import col\n",
        "\n",
        "trainDataset.groupBy(\"category\") \\\n",
        "    .count() \\\n",
        "    .orderBy(col(\"count\").desc()) \\\n",
        "    .show()"
      ],
      "execution_count": 0,
      "outputs": [
        {
          "output_type": "stream",
          "text": [
            "+--------+-----+\n",
            "|category|count|\n",
            "+--------+-----+\n",
            "|       1|30000|\n",
            "|       3|30000|\n",
            "|       4|30000|\n",
            "|       2|30000|\n",
            "+--------+-----+\n",
            "\n"
          ],
          "name": "stdout"
        }
      ]
    },
    {
      "cell_type": "code",
      "metadata": {
        "id": "W8q4MKGBXVC_",
        "colab_type": "code",
        "outputId": "24053f73-2a6f-4822-be92-bb3981b4db5d",
        "colab": {
          "base_uri": "https://localhost:8080/",
          "height": 459
        }
      },
      "source": [
        "\n",
        "testDataset = spark.read \\\n",
        "      .option(\"header\", True) \\\n",
        "      .csv(\"drive/My Drive/test.csv\")\n",
        "testDataset=testDataset.drop(\"title\")\n",
        "\n",
        "testDataset.show(truncate=50)"
      ],
      "execution_count": 0,
      "outputs": [
        {
          "output_type": "stream",
          "text": [
            "+--------+--------------------------------------------------+\n",
            "|category|                                       description|\n",
            "+--------+--------------------------------------------------+\n",
            "|       3|Unions representing workers at Turner   Newall ...|\n",
            "|       4|SPACE.com - TORONTO, Canada -- A second\\team of...|\n",
            "|       4|AP - A company founded by a chemistry researche...|\n",
            "|       4|AP - It's barely dawn when Mike Fitzpatrick sta...|\n",
            "|       4|AP - Southern California's smog-fighting agency...|\n",
            "|       4|\"The British Department for Education and Skill...|\n",
            "|       4|                                  \"\\\"\"Sven Jaschan|\n",
            "|       4|\\FOAF/LOAF  and bloom filters have a lot of int...|\n",
            "|       4|\"Wiltshire Police warns about \"\"phishing\"\" afte...|\n",
            "|       4|In its first two years, the UK's dedicated card...|\n",
            "|       4| LOS ANGELES (Reuters) - A group of technology ...|\n",
            "|       4| LOS ANGELES (Reuters) - Apple Computer Inc.&lt...|\n",
            "|       4| AMSTERDAM (Reuters) - Free Record Shop, a Dutc...|\n",
            "|       4|A giant 100km colony of ants  which has been di...|\n",
            "|       4|                      \"Dolphin groups, or \"\"pods\"\"|\n",
            "|       4|Tyrannosaurus rex achieved its massive size due...|\n",
            "|       4|Jet Propulsion Lab -- Scientists have discovere...|\n",
            "|       4|European Space Agency -- ESAs Mars Express has ...|\n",
            "|       4|When did life begin? One evidential clue stems ...|\n",
            "|       4|update Earnings per share rise compared with a ...|\n",
            "+--------+--------------------------------------------------+\n",
            "only showing top 20 rows\n",
            "\n"
          ],
          "name": "stdout"
        }
      ]
    },
    {
      "cell_type": "code",
      "metadata": {
        "id": "Nqpo7DLCXXtw",
        "colab_type": "code",
        "outputId": "887d59ac-c819-4811-e1c4-f8f82d611a74",
        "colab": {
          "base_uri": "https://localhost:8080/",
          "height": 119
        }
      },
      "source": [
        "document_assembler = DocumentAssembler() \\\n",
        "    .setInputCol(\"description\") \\\n",
        "    .setOutputCol(\"document\")\n",
        "    \n",
        "tokenizer = Tokenizer() \\\n",
        "  .setInputCols([\"document\"]) \\\n",
        "  .setOutputCol(\"token\")\n",
        "  \n",
        "\n",
        "spell_checker = NorvigSweetingApproach() \\\n",
        "    .setInputCols([\"token\"]) \\\n",
        "    .setOutputCol(\"checked\") \\\n",
        "    .setDictionary(\"drive/My Drive/coca2017.txt\", \"[a-zA-Z]+\")\n",
        "    \n",
        "normalizer = Normalizer() \\\n",
        "    .setInputCols([\"checked\"]) \\\n",
        "    .setOutputCol(\"normalized\")\n",
        "\n",
        "stopwords_cleaner = StopWordsCleaner()\\\n",
        "      .setInputCols(\"normalized\")\\\n",
        "      .setOutputCol(\"cleanTokens\")\\\n",
        "      .setCaseSensitive(False)\n",
        "\n",
        "lemma = LemmatizerModel.pretrained('lemma_antbnc') \\\n",
        "    .setInputCols([\"cleanTokens\"]) \\\n",
        "    .setOutputCol(\"lemma\")\n",
        "\n",
        "word_embeddings = BertEmbeddings.pretrained('bert_base_cased', 'en')\\\n",
        "  .setInputCols([\"document\", \"lemma\"])\\\n",
        "  .setOutputCol(\"embeddings\")\n",
        "\n",
        "embeddingsSentence = SentenceEmbeddings() \\\n",
        "      .setInputCols([\"document\", \"embeddings\"]) \\\n",
        "      .setOutputCol(\"sentence_embeddings\") \\\n",
        "      .setPoolingStrategy(\"AVERAGE\")\n",
        "    \n",
        "\n",
        "\n",
        "classsifierdl = ClassifierDLApproach()\\\n",
        "  .setInputCols([\"sentence_embeddings\"])\\\n",
        "  .setOutputCol(\"class\")\\\n",
        "  .setLabelColumn(\"category\")\\\n",
        "   .setBatchSize(64)\\\n",
        "      .setMaxEpochs(20)\\\n",
        "      .setLr(0.01)\\\n",
        "      .setDropout(0.2)\\\n",
        "      .setEnableOutputLogs(True)\n",
        "\n",
        "clf_pipeline = Pipeline(\n",
        "    stages=[document_assembler, \n",
        "            tokenizer,\n",
        "            spell_checker,\n",
        "            normalizer,\n",
        "            stopwords_cleaner, \n",
        "            lemma,\n",
        "            word_embeddings,\n",
        "            embeddingsSentence,\n",
        "                 \n",
        "            classsifierdl])"
      ],
      "execution_count": 0,
      "outputs": [
        {
          "output_type": "stream",
          "text": [
            "lemma_antbnc download started this may take some time.\n",
            "Approximate size to download 907.6 KB\n",
            "[OK!]\n",
            "bert_base_cased download started this may take some time.\n",
            "Approximate size to download 389.2 MB\n",
            "[OK!]\n"
          ],
          "name": "stdout"
        }
      ]
    },
    {
      "cell_type": "code",
      "metadata": {
        "id": "TH2WsOShXd95",
        "colab_type": "code",
        "colab": {}
      },
      "source": [
        "%%time\n",
        "clf_pipelineModel = clf_pipeline.fit(trainDataset)"
      ],
      "execution_count": 0,
      "outputs": []
    },
    {
      "cell_type": "code",
      "metadata": {
        "id": "I9sswe1kXfzk",
        "colab_type": "code",
        "colab": {}
      },
      "source": [
        "!cd ~/annotator_logs && ls -l"
      ],
      "execution_count": 0,
      "outputs": []
    },
    {
      "cell_type": "code",
      "metadata": {
        "id": "x-csXj_MXht9",
        "colab_type": "code",
        "colab": {}
      },
      "source": [
        "!cat ~/annotator_logs/ClassifierDLApproach_824221680502.log"
      ],
      "execution_count": 0,
      "outputs": []
    },
    {
      "cell_type": "code",
      "metadata": {
        "id": "G-H-EAgUnSIP",
        "colab_type": "code",
        "colab": {}
      },
      "source": [
        "preds = clf_pipelineModel.transform(testDataset)\n",
        "\n",
        "preds.select('category','description',\"class.result\").show(10, truncate=80)"
      ],
      "execution_count": 0,
      "outputs": []
    },
    {
      "cell_type": "code",
      "metadata": {
        "id": "Jbqa-SqvnVWQ",
        "colab_type": "code",
        "colab": {}
      },
      "source": [
        "preds_df = preds.select('category','description',\"class.result\").toPandas()\n",
        "\n",
        "# The result is an array since in Spark NLP you can have multiple sentences.\n",
        "# Let's explode the array and get the item(s) inside of result column out\n",
        "preds_df['result'] = preds_df['result'].apply(lambda x : x[0])"
      ],
      "execution_count": 0,
      "outputs": []
    },
    {
      "cell_type": "code",
      "metadata": {
        "id": "b3hTjivqnZBS",
        "colab_type": "code",
        "colab": {}
      },
      "source": [
        "# We are going to use sklearn to evalute the results on test dataset\n",
        "from sklearn.metrics import classification_report\n",
        "\n",
        "print (classification_report(preds_df['result'], preds_df['category']))\n"
      ],
      "execution_count": 0,
      "outputs": []
    }
  ]
}